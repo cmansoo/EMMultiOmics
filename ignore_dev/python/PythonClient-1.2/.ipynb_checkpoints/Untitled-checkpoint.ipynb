{
 "cells": [
  {
   "cell_type": "code",
   "execution_count": 1,
   "id": "6252f6d1-d7ad-4851-a25e-b8aa4f690f49",
   "metadata": {},
   "outputs": [
    {
     "name": "stdout",
     "output_type": "stream",
     "text": [
      "url=https://davidbioinformatics.nih.gov/webservice/services/DAVIDWebService?wsdl\n"
     ]
    },
    {
     "ename": "MethodNotFound",
     "evalue": "Method not found: 'DAVIDWebService.DAVIDWebServiceHttpSoap11Endpoint.autheticate'",
     "output_type": "error",
     "traceback": [
      "\u001b[1;31m---------------------------------------------------------------------------\u001b[0m",
      "\u001b[1;31mMethodNotFound\u001b[0m                            Traceback (most recent call last)",
      "Input \u001b[1;32mIn [1]\u001b[0m, in \u001b[0;36m<cell line: 26>\u001b[1;34m()\u001b[0m\n\u001b[0;32m     18\u001b[0m client\u001b[38;5;241m.\u001b[39mwsdl\u001b[38;5;241m.\u001b[39mservices[\u001b[38;5;241m0\u001b[39m]\u001b[38;5;241m.\u001b[39msetlocation(\u001b[38;5;124m'\u001b[39m\u001b[38;5;124mhttps://davidbioinformatics.nih.gov/webservice/services/DAVIDWebService.DAVIDWebServiceHttpSoap12Endpoint/\u001b[39m\u001b[38;5;124m'\u001b[39m)\n\u001b[0;32m     19\u001b[0m \u001b[38;5;66;03m#\u001b[39;00m\n\u001b[0;32m     20\u001b[0m \u001b[38;5;66;03m# print the service (introspection)\u001b[39;00m\n\u001b[0;32m     21\u001b[0m \u001b[38;5;66;03m#\u001b[39;00m\n\u001b[1;32m   (...)\u001b[0m\n\u001b[0;32m     24\u001b[0m \u001b[38;5;66;03m#authenticate user email \u001b[39;00m\n\u001b[0;32m     25\u001b[0m \u001b[38;5;66;03m# client.service.authenticate('yourRegisteredEmail@your.org')\u001b[39;00m\n\u001b[1;32m---> 26\u001b[0m \u001b[43mclient\u001b[49m\u001b[38;5;241;43m.\u001b[39;49m\u001b[43mservice\u001b[49m\u001b[38;5;241;43m.\u001b[39;49m\u001b[43mautheticate\u001b[49m(\u001b[38;5;124m\"\u001b[39m\u001b[38;5;124mmcho8@bwh.harvard.edu\u001b[39m\u001b[38;5;124m\"\u001b[39m)\n\u001b[0;32m     28\u001b[0m \u001b[38;5;66;03m# Define the input gene list file, identifier type, list type and a list name\u001b[39;00m\n\u001b[0;32m     29\u001b[0m inputFile \u001b[38;5;241m=\u001b[39m sys\u001b[38;5;241m.\u001b[39margv[\u001b[38;5;241m1\u001b[39m]\n",
      "File \u001b[1;32m~\\AppData\\Local\\Packages\\PythonSoftwareFoundation.Python.3.9_qbz5n2kfra8p0\\LocalCache\\local-packages\\Python39\\site-packages\\suds\\client.py:327\u001b[0m, in \u001b[0;36mServiceSelector.__getattr__\u001b[1;34m(self, name)\u001b[0m\n\u001b[0;32m    325\u001b[0m \u001b[38;5;28;01melse\u001b[39;00m:\n\u001b[0;32m    326\u001b[0m     port \u001b[38;5;241m=\u001b[39m default\n\u001b[1;32m--> 327\u001b[0m \u001b[38;5;28;01mreturn\u001b[39;00m \u001b[38;5;28;43mgetattr\u001b[39;49m\u001b[43m(\u001b[49m\u001b[43mport\u001b[49m\u001b[43m,\u001b[49m\u001b[43m \u001b[49m\u001b[43mname\u001b[49m\u001b[43m)\u001b[49m\n",
      "File \u001b[1;32m~\\AppData\\Local\\Packages\\PythonSoftwareFoundation.Python.3.9_qbz5n2kfra8p0\\LocalCache\\local-packages\\Python39\\site-packages\\suds\\client.py:441\u001b[0m, in \u001b[0;36mPortSelector.__getattr__\u001b[1;34m(self, name)\u001b[0m\n\u001b[0;32m    439\u001b[0m \u001b[38;5;28;01melse\u001b[39;00m:\n\u001b[0;32m    440\u001b[0m     m \u001b[38;5;241m=\u001b[39m default\n\u001b[1;32m--> 441\u001b[0m \u001b[38;5;28;01mreturn\u001b[39;00m \u001b[38;5;28;43mgetattr\u001b[39;49m\u001b[43m(\u001b[49m\u001b[43mm\u001b[49m\u001b[43m,\u001b[49m\u001b[43m \u001b[49m\u001b[43mname\u001b[49m\u001b[43m)\u001b[49m\n",
      "File \u001b[1;32m~\\AppData\\Local\\Packages\\PythonSoftwareFoundation.Python.3.9_qbz5n2kfra8p0\\LocalCache\\local-packages\\Python39\\site-packages\\suds\\client.py:540\u001b[0m, in \u001b[0;36mMethodSelector.__getattr__\u001b[1;34m(self, name)\u001b[0m\n\u001b[0;32m    530\u001b[0m \u001b[38;5;28;01mdef\u001b[39;00m \u001b[38;5;21m__getattr__\u001b[39m(\u001b[38;5;28mself\u001b[39m, name):\n\u001b[0;32m    531\u001b[0m     \u001b[38;5;124;03m\"\"\"\u001b[39;00m\n\u001b[0;32m    532\u001b[0m \u001b[38;5;124;03m    Get a method by name and return it in an I{execution wrapper}.\u001b[39;00m\n\u001b[0;32m    533\u001b[0m \n\u001b[1;32m   (...)\u001b[0m\n\u001b[0;32m    538\u001b[0m \n\u001b[0;32m    539\u001b[0m \u001b[38;5;124;03m    \"\"\"\u001b[39;00m\n\u001b[1;32m--> 540\u001b[0m     \u001b[38;5;28;01mreturn\u001b[39;00m \u001b[38;5;28;43mself\u001b[39;49m\u001b[43m[\u001b[49m\u001b[43mname\u001b[49m\u001b[43m]\u001b[49m\n",
      "File \u001b[1;32m~\\AppData\\Local\\Packages\\PythonSoftwareFoundation.Python.3.9_qbz5n2kfra8p0\\LocalCache\\local-packages\\Python39\\site-packages\\suds\\client.py:555\u001b[0m, in \u001b[0;36mMethodSelector.__getitem__\u001b[1;34m(self, name)\u001b[0m\n\u001b[0;32m    553\u001b[0m \u001b[38;5;28;01mif\u001b[39;00m m \u001b[38;5;129;01mis\u001b[39;00m \u001b[38;5;28;01mNone\u001b[39;00m:\n\u001b[0;32m    554\u001b[0m     qn \u001b[38;5;241m=\u001b[39m \u001b[38;5;124m\"\u001b[39m\u001b[38;5;124m.\u001b[39m\u001b[38;5;124m\"\u001b[39m\u001b[38;5;241m.\u001b[39mjoin((\u001b[38;5;28mself\u001b[39m\u001b[38;5;241m.\u001b[39m__qn, name))\n\u001b[1;32m--> 555\u001b[0m     \u001b[38;5;28;01mraise\u001b[39;00m MethodNotFound(qn)\n\u001b[0;32m    556\u001b[0m \u001b[38;5;28;01mreturn\u001b[39;00m Method(\u001b[38;5;28mself\u001b[39m\u001b[38;5;241m.\u001b[39m__client, m)\n",
      "\u001b[1;31mMethodNotFound\u001b[0m: Method not found: 'DAVIDWebService.DAVIDWebServiceHttpSoap11Endpoint.autheticate'"
     ]
    }
   ],
   "source": [
    "\"\"\"\n",
    "demolist2.txt is a demo of input files.\n",
    "Running this scripts in the commmand line as: python DAVIDWebservice_Client.py demolist2.txt \n",
    "\"\"\"\n",
    "\n",
    "import pandas as pd\n",
    "import sys\n",
    "from suds.client import Client\n",
    "\n",
    "url = 'https://davidbioinformatics.nih.gov/webservice/services/DAVIDWebService?wsdl'\n",
    "    \n",
    "print ('url=%s' % url)\n",
    "\n",
    "#\n",
    "# create a service client using the wsdl.\n",
    "#\n",
    "client = Client(url)\n",
    "client.wsdl.services[0].setlocation('https://davidbioinformatics.nih.gov/webservice/services/DAVIDWebService.DAVIDWebServiceHttpSoap12Endpoint/')\n",
    "#\n",
    "# print the service (introspection)\n",
    "#\n",
    "#print client\n",
    "\n",
    "#authenticate user email \n",
    "# client.service.authenticate('yourRegisteredEmail@your.org')\n",
    "client.service.autheticate(\"mcho8@bwh.harvard.edu\")\n",
    "\n",
    "# Define the input gene list file, identifier type, list type and a list name\n",
    "inputFile = sys.argv[1]\n",
    "idType = 'AFFYMETRIX_3PRIME_IVT_ID'\n",
    "listType = 0\n",
    "listName = \"demolist2\"\n",
    "\n",
    "# Read input gene list file, convert ids to a comma-delimited string and upload the list to DAVID\n",
    "df=pd.read_csv(inputFile, usecols=[0], delimiter='\\t', index_col=False, names=['AFFYMETRIX_3PRIME_IVT_ID'])\n",
    "inputIds = \",\".join(df['AFFYMETRIX_3PRIME_IVT_ID'].astype(str).unique().tolist())\n",
    "client.service.addList(inputIds, idType, listName, listType)\n",
    "print (client.service.addList(inputIds, idType, listName, listType))\n",
    "\n",
    "print (client.service.getDefaultCategoryNames())\n",
    "print ('successfully finished!')\n",
    "# setCategories\n",
    "#categorySting = str(client.service.setCategories('BBID,BIOCARTA,COG_ONTOLOGY,GOTERM_BP_FAT,GOTERM_CC_FAT,GOTERM_MF_FAT,INTERPRO,KEGG_PATHWAY,OMIM_DISEASE,PIR_SUPERFAMILY,SMART,SP_PIR_KEYWORDS,UP_SEQ_FEATURE'))\n"
   ]
  },
  {
   "cell_type": "code",
   "execution_count": 25,
   "id": "e425842e-a988-469d-9a7a-d25dd4cebbc7",
   "metadata": {},
   "outputs": [
    {
     "name": "stdout",
     "output_type": "stream",
     "text": [
      "url=https://davidbioinformatics.nih.gov/webservice/services/DAVIDWebService?wsdl\n"
     ]
    }
   ],
   "source": [
    "import pandas as pd\n",
    "import sys\n",
    "from suds.client import Client\n",
    "\n",
    "url = 'https://davidbioinformatics.nih.gov/webservice/services/DAVIDWebService?wsdl'\n",
    "    \n",
    "print ('url=%s' % url)"
   ]
  },
  {
   "cell_type": "code",
   "execution_count": 28,
   "id": "a6b932cb-0210-42a6-9501-eaf9f0715c41",
   "metadata": {},
   "outputs": [],
   "source": [
    "client = Client(url)\n",
    "client.wsdl.services[0].setlocation('https://davidbioinformatics.nih.gov/webservice/services/DAVIDWebService.DAVIDWebServiceHttpSoap12Endpoint/')"
   ]
  },
  {
   "cell_type": "code",
   "execution_count": 27,
   "id": "bea8780a-f17a-48a0-aa0a-bfec827a1810",
   "metadata": {},
   "outputs": [
    {
     "ename": "MethodNotFound",
     "evalue": "Method not found: 'DAVIDWebService.DAVIDWebServiceHttpSoap11Endpoint.autheticate'",
     "output_type": "error",
     "traceback": [
      "\u001b[1;31m---------------------------------------------------------------------------\u001b[0m",
      "\u001b[1;31mMethodNotFound\u001b[0m                            Traceback (most recent call last)",
      "Input \u001b[1;32mIn [27]\u001b[0m, in \u001b[0;36m<cell line: 1>\u001b[1;34m()\u001b[0m\n\u001b[1;32m----> 1\u001b[0m \u001b[43mclient\u001b[49m\u001b[38;5;241;43m.\u001b[39;49m\u001b[43mservice\u001b[49m\u001b[38;5;241;43m.\u001b[39;49m\u001b[43mautheticate\u001b[49m()\n",
      "File \u001b[1;32m~\\AppData\\Local\\Packages\\PythonSoftwareFoundation.Python.3.9_qbz5n2kfra8p0\\LocalCache\\local-packages\\Python39\\site-packages\\suds\\client.py:327\u001b[0m, in \u001b[0;36mServiceSelector.__getattr__\u001b[1;34m(self, name)\u001b[0m\n\u001b[0;32m    325\u001b[0m \u001b[38;5;28;01melse\u001b[39;00m:\n\u001b[0;32m    326\u001b[0m     port \u001b[38;5;241m=\u001b[39m default\n\u001b[1;32m--> 327\u001b[0m \u001b[38;5;28;01mreturn\u001b[39;00m \u001b[38;5;28;43mgetattr\u001b[39;49m\u001b[43m(\u001b[49m\u001b[43mport\u001b[49m\u001b[43m,\u001b[49m\u001b[43m \u001b[49m\u001b[43mname\u001b[49m\u001b[43m)\u001b[49m\n",
      "File \u001b[1;32m~\\AppData\\Local\\Packages\\PythonSoftwareFoundation.Python.3.9_qbz5n2kfra8p0\\LocalCache\\local-packages\\Python39\\site-packages\\suds\\client.py:441\u001b[0m, in \u001b[0;36mPortSelector.__getattr__\u001b[1;34m(self, name)\u001b[0m\n\u001b[0;32m    439\u001b[0m \u001b[38;5;28;01melse\u001b[39;00m:\n\u001b[0;32m    440\u001b[0m     m \u001b[38;5;241m=\u001b[39m default\n\u001b[1;32m--> 441\u001b[0m \u001b[38;5;28;01mreturn\u001b[39;00m \u001b[38;5;28;43mgetattr\u001b[39;49m\u001b[43m(\u001b[49m\u001b[43mm\u001b[49m\u001b[43m,\u001b[49m\u001b[43m \u001b[49m\u001b[43mname\u001b[49m\u001b[43m)\u001b[49m\n",
      "File \u001b[1;32m~\\AppData\\Local\\Packages\\PythonSoftwareFoundation.Python.3.9_qbz5n2kfra8p0\\LocalCache\\local-packages\\Python39\\site-packages\\suds\\client.py:540\u001b[0m, in \u001b[0;36mMethodSelector.__getattr__\u001b[1;34m(self, name)\u001b[0m\n\u001b[0;32m    530\u001b[0m \u001b[38;5;28;01mdef\u001b[39;00m \u001b[38;5;21m__getattr__\u001b[39m(\u001b[38;5;28mself\u001b[39m, name):\n\u001b[0;32m    531\u001b[0m     \u001b[38;5;124;03m\"\"\"\u001b[39;00m\n\u001b[0;32m    532\u001b[0m \u001b[38;5;124;03m    Get a method by name and return it in an I{execution wrapper}.\u001b[39;00m\n\u001b[0;32m    533\u001b[0m \n\u001b[1;32m   (...)\u001b[0m\n\u001b[0;32m    538\u001b[0m \n\u001b[0;32m    539\u001b[0m \u001b[38;5;124;03m    \"\"\"\u001b[39;00m\n\u001b[1;32m--> 540\u001b[0m     \u001b[38;5;28;01mreturn\u001b[39;00m \u001b[38;5;28;43mself\u001b[39;49m\u001b[43m[\u001b[49m\u001b[43mname\u001b[49m\u001b[43m]\u001b[49m\n",
      "File \u001b[1;32m~\\AppData\\Local\\Packages\\PythonSoftwareFoundation.Python.3.9_qbz5n2kfra8p0\\LocalCache\\local-packages\\Python39\\site-packages\\suds\\client.py:555\u001b[0m, in \u001b[0;36mMethodSelector.__getitem__\u001b[1;34m(self, name)\u001b[0m\n\u001b[0;32m    553\u001b[0m \u001b[38;5;28;01mif\u001b[39;00m m \u001b[38;5;129;01mis\u001b[39;00m \u001b[38;5;28;01mNone\u001b[39;00m:\n\u001b[0;32m    554\u001b[0m     qn \u001b[38;5;241m=\u001b[39m \u001b[38;5;124m\"\u001b[39m\u001b[38;5;124m.\u001b[39m\u001b[38;5;124m\"\u001b[39m\u001b[38;5;241m.\u001b[39mjoin((\u001b[38;5;28mself\u001b[39m\u001b[38;5;241m.\u001b[39m__qn, name))\n\u001b[1;32m--> 555\u001b[0m     \u001b[38;5;28;01mraise\u001b[39;00m MethodNotFound(qn)\n\u001b[0;32m    556\u001b[0m \u001b[38;5;28;01mreturn\u001b[39;00m Method(\u001b[38;5;28mself\u001b[39m\u001b[38;5;241m.\u001b[39m__client, m)\n",
      "\u001b[1;31mMethodNotFound\u001b[0m: Method not found: 'DAVIDWebService.DAVIDWebServiceHttpSoap11Endpoint.autheticate'"
     ]
    }
   ],
   "source": [
    "client.service.autheticate()"
   ]
  },
  {
   "cell_type": "code",
   "execution_count": 29,
   "id": "bbb37331-435f-4ee5-a8c9-5fdd259e1f48",
   "metadata": {},
   "outputs": [
    {
     "name": "stdout",
     "output_type": "stream",
     "text": [
      "url=https://davidbioinformatics.nih.gov/webservice/services/DAVIDWebService?wsdl\n"
     ]
    },
    {
     "ename": "MethodNotFound",
     "evalue": "Method not found: 'DAVIDWebService.DAVIDWebServiceHttpSoap11Endpoint.autheticate'",
     "output_type": "error",
     "traceback": [
      "\u001b[1;31m---------------------------------------------------------------------------\u001b[0m",
      "\u001b[1;31mMethodNotFound\u001b[0m                            Traceback (most recent call last)",
      "Input \u001b[1;32mIn [29]\u001b[0m, in \u001b[0;36m<cell line: 26>\u001b[1;34m()\u001b[0m\n\u001b[0;32m     18\u001b[0m client\u001b[38;5;241m.\u001b[39mwsdl\u001b[38;5;241m.\u001b[39mservices[\u001b[38;5;241m0\u001b[39m]\u001b[38;5;241m.\u001b[39msetlocation(\u001b[38;5;124m'\u001b[39m\u001b[38;5;124mhttps://davidbioinformatics.nih.gov/webservice/services/DAVIDWebService.DAVIDWebServiceHttpSoap12Endpoint/\u001b[39m\u001b[38;5;124m'\u001b[39m)\n\u001b[0;32m     19\u001b[0m \u001b[38;5;66;03m#\u001b[39;00m\n\u001b[0;32m     20\u001b[0m \u001b[38;5;66;03m# print the service (introspection)\u001b[39;00m\n\u001b[0;32m     21\u001b[0m \u001b[38;5;66;03m#\u001b[39;00m\n\u001b[1;32m   (...)\u001b[0m\n\u001b[0;32m     24\u001b[0m \u001b[38;5;66;03m#authenticate user email \u001b[39;00m\n\u001b[0;32m     25\u001b[0m \u001b[38;5;66;03m# client.service.authenticate('yourRegisteredEmail@your.org')\u001b[39;00m\n\u001b[1;32m---> 26\u001b[0m \u001b[43mclient\u001b[49m\u001b[38;5;241;43m.\u001b[39;49m\u001b[43mservice\u001b[49m\u001b[38;5;241;43m.\u001b[39;49m\u001b[43mautheticate\u001b[49m(\u001b[38;5;124m\"\u001b[39m\u001b[38;5;124mmcho8@bwh.harvard.edu\u001b[39m\u001b[38;5;124m\"\u001b[39m)\n\u001b[0;32m     28\u001b[0m \u001b[38;5;66;03m# Define the input gene list file, identifier type, list type and a list name\u001b[39;00m\n\u001b[0;32m     29\u001b[0m inputFile \u001b[38;5;241m=\u001b[39m sys\u001b[38;5;241m.\u001b[39margv[\u001b[38;5;241m1\u001b[39m]\n",
      "File \u001b[1;32m~\\AppData\\Local\\Packages\\PythonSoftwareFoundation.Python.3.9_qbz5n2kfra8p0\\LocalCache\\local-packages\\Python39\\site-packages\\suds\\client.py:327\u001b[0m, in \u001b[0;36mServiceSelector.__getattr__\u001b[1;34m(self, name)\u001b[0m\n\u001b[0;32m    325\u001b[0m \u001b[38;5;28;01melse\u001b[39;00m:\n\u001b[0;32m    326\u001b[0m     port \u001b[38;5;241m=\u001b[39m default\n\u001b[1;32m--> 327\u001b[0m \u001b[38;5;28;01mreturn\u001b[39;00m \u001b[38;5;28;43mgetattr\u001b[39;49m\u001b[43m(\u001b[49m\u001b[43mport\u001b[49m\u001b[43m,\u001b[49m\u001b[43m \u001b[49m\u001b[43mname\u001b[49m\u001b[43m)\u001b[49m\n",
      "File \u001b[1;32m~\\AppData\\Local\\Packages\\PythonSoftwareFoundation.Python.3.9_qbz5n2kfra8p0\\LocalCache\\local-packages\\Python39\\site-packages\\suds\\client.py:441\u001b[0m, in \u001b[0;36mPortSelector.__getattr__\u001b[1;34m(self, name)\u001b[0m\n\u001b[0;32m    439\u001b[0m \u001b[38;5;28;01melse\u001b[39;00m:\n\u001b[0;32m    440\u001b[0m     m \u001b[38;5;241m=\u001b[39m default\n\u001b[1;32m--> 441\u001b[0m \u001b[38;5;28;01mreturn\u001b[39;00m \u001b[38;5;28;43mgetattr\u001b[39;49m\u001b[43m(\u001b[49m\u001b[43mm\u001b[49m\u001b[43m,\u001b[49m\u001b[43m \u001b[49m\u001b[43mname\u001b[49m\u001b[43m)\u001b[49m\n",
      "File \u001b[1;32m~\\AppData\\Local\\Packages\\PythonSoftwareFoundation.Python.3.9_qbz5n2kfra8p0\\LocalCache\\local-packages\\Python39\\site-packages\\suds\\client.py:540\u001b[0m, in \u001b[0;36mMethodSelector.__getattr__\u001b[1;34m(self, name)\u001b[0m\n\u001b[0;32m    530\u001b[0m \u001b[38;5;28;01mdef\u001b[39;00m \u001b[38;5;21m__getattr__\u001b[39m(\u001b[38;5;28mself\u001b[39m, name):\n\u001b[0;32m    531\u001b[0m     \u001b[38;5;124;03m\"\"\"\u001b[39;00m\n\u001b[0;32m    532\u001b[0m \u001b[38;5;124;03m    Get a method by name and return it in an I{execution wrapper}.\u001b[39;00m\n\u001b[0;32m    533\u001b[0m \n\u001b[1;32m   (...)\u001b[0m\n\u001b[0;32m    538\u001b[0m \n\u001b[0;32m    539\u001b[0m \u001b[38;5;124;03m    \"\"\"\u001b[39;00m\n\u001b[1;32m--> 540\u001b[0m     \u001b[38;5;28;01mreturn\u001b[39;00m \u001b[38;5;28;43mself\u001b[39;49m\u001b[43m[\u001b[49m\u001b[43mname\u001b[49m\u001b[43m]\u001b[49m\n",
      "File \u001b[1;32m~\\AppData\\Local\\Packages\\PythonSoftwareFoundation.Python.3.9_qbz5n2kfra8p0\\LocalCache\\local-packages\\Python39\\site-packages\\suds\\client.py:555\u001b[0m, in \u001b[0;36mMethodSelector.__getitem__\u001b[1;34m(self, name)\u001b[0m\n\u001b[0;32m    553\u001b[0m \u001b[38;5;28;01mif\u001b[39;00m m \u001b[38;5;129;01mis\u001b[39;00m \u001b[38;5;28;01mNone\u001b[39;00m:\n\u001b[0;32m    554\u001b[0m     qn \u001b[38;5;241m=\u001b[39m \u001b[38;5;124m\"\u001b[39m\u001b[38;5;124m.\u001b[39m\u001b[38;5;124m\"\u001b[39m\u001b[38;5;241m.\u001b[39mjoin((\u001b[38;5;28mself\u001b[39m\u001b[38;5;241m.\u001b[39m__qn, name))\n\u001b[1;32m--> 555\u001b[0m     \u001b[38;5;28;01mraise\u001b[39;00m MethodNotFound(qn)\n\u001b[0;32m    556\u001b[0m \u001b[38;5;28;01mreturn\u001b[39;00m Method(\u001b[38;5;28mself\u001b[39m\u001b[38;5;241m.\u001b[39m__client, m)\n",
      "\u001b[1;31mMethodNotFound\u001b[0m: Method not found: 'DAVIDWebService.DAVIDWebServiceHttpSoap11Endpoint.autheticate'"
     ]
    }
   ],
   "source": [
    "\"\"\"\n",
    "demolist2.txt is a demo of input files.\n",
    "Running this scripts in the commmand line as: python DAVIDWebservice_Client.py demonlist2.txt \n",
    "\"\"\"\n",
    "\n",
    "import pandas as pd\n",
    "import sys\n",
    "from suds.client import Client\n",
    "\n",
    "url = 'https://davidbioinformatics.nih.gov/webservice/services/DAVIDWebService?wsdl'\n",
    "    \n",
    "print ('url=%s' % url)\n",
    "\n",
    "#\n",
    "# create a service client using the wsdl.\n",
    "#\n",
    "client = Client(url)\n",
    "client.wsdl.services[0].setlocation('https://davidbioinformatics.nih.gov/webservice/services/DAVIDWebService.DAVIDWebServiceHttpSoap12Endpoint/')\n",
    "#\n",
    "# print the service (introspection)\n",
    "#\n",
    "#print client\n",
    "\n",
    "#authenticate user email \n",
    "# client.service.authenticate('yourRegisteredEmail@your.org')\n",
    "client.service.autheticate(\"mcho8@bwh.harvard.edu\")\n",
    "\n",
    "# Define the input gene list file, identifier type, list type and a list name\n",
    "inputFile = sys.argv[1]\n",
    "idType = 'AFFYMETRIX_3PRIME_IVT_ID'\n",
    "listType = 0\n",
    "listName = \"demolist2\"\n",
    "\n",
    "# Read input gene list file, convert ids to a comma-delimited string and upload the list to DAVID\n",
    "df=pd.read_csv(inputFile, usecols=[0], delimiter='\\t', index_col=False, names=['AFFYMETRIX_3PRIME_IVT_ID'])\n",
    "inputIds = \",\".join(df['AFFYMETRIX_3PRIME_IVT_ID'].astype(str).unique().tolist())\n",
    "client.service.addList(inputIds, idType, listName, listType)\n",
    "print (client.service.addList(inputIds, idType, listName, listType))\n",
    "\n",
    "print (client.service.getDefaultCategoryNames())\n",
    "print ('successfully finished!')\n",
    "# setCategories\n",
    "#categorySting = str(client.service.setCategories('BBID,BIOCARTA,COG_ONTOLOGY,GOTERM_BP_FAT,GOTERM_CC_FAT,GOTERM_MF_FAT,INTERPRO,KEGG_PATHWAY,OMIM_DISEASE,PIR_SUPERFAMILY,SMART,SP_PIR_KEYWORDS,UP_SEQ_FEATURE'))\n"
   ]
  },
  {
   "cell_type": "code",
   "execution_count": null,
   "id": "0e08e03a-7a02-4aa5-8228-dd492ef52bca",
   "metadata": {},
   "outputs": [],
   "source": []
  }
 ],
 "metadata": {
  "kernelspec": {
   "display_name": "Python 3 (ipykernel)",
   "language": "python",
   "name": "python3"
  },
  "language_info": {
   "codemirror_mode": {
    "name": "ipython",
    "version": 3
   },
   "file_extension": ".py",
   "mimetype": "text/x-python",
   "name": "python",
   "nbconvert_exporter": "python",
   "pygments_lexer": "ipython3",
   "version": "3.9.13"
  }
 },
 "nbformat": 4,
 "nbformat_minor": 5
}
